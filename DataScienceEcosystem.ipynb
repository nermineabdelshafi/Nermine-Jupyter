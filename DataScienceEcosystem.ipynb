{
 "cells": [
  {
   "cell_type": "markdown",
   "id": "9ab2a26a-c43b-494b-97a2-e712ca6bc763",
   "metadata": {
    "tags": []
   },
   "source": [
    "# Data Science Tools and Ecosystem"
   ]
  },
  {
   "cell_type": "markdown",
   "id": "0c71e5b8-70cc-46b8-be5e-b6b60fd6811a",
   "metadata": {
    "tags": []
   },
   "source": [
    "### Introduction\n",
    "In this notebook, Data Science Tools and Ecosystem are summarized."
   ]
  },
  {
   "cell_type": "markdown",
   "id": "7418d538-6f74-452f-a96d-41c4f6d6be73",
   "metadata": {},
   "source": [
    "**Objectives**\n",
    "\n",
    "* List popular languages for Data Science\n",
    "* List popular Libraris for Data Science\n",
    "* Show examples of evaluating arithmetic expressions in Python"
   ]
  },
  {
   "cell_type": "markdown",
   "id": "703b5c76-4d73-4ee5-9dc9-8f3162fd27b3",
   "metadata": {
    "tags": []
   },
   "source": [
    "Some of the popular languages that Data Scientists use are:\n",
    "\n",
    "1. Python\n",
    "2. R\n",
    "3. SQL\n",
    "4. Java\n",
    "5. Scala"
   ]
  },
  {
   "cell_type": "markdown",
   "id": "2d63248a-000d-49b3-974e-cafbb43351a6",
   "metadata": {
    "tags": []
   },
   "source": [
    "Some of the commonly used libraries used by Data Scientists include:\n",
    "\n",
    "1. Pandas\n",
    "2. Numpy\n",
    "3. Matplotlib\n",
    "4. Scikit-learn"
   ]
  },
  {
   "cell_type": "markdown",
   "id": "8ff9c2fb-8b86-4d76-ba32-3178e739c090",
   "metadata": {
    "tags": []
   },
   "source": [
    "|Data Science Tools|\n",
    "|----|\n",
    "|Jupyter NoteBook|\n",
    "|Spyder|\n",
    "|Apache Zeppelin|\n",
    "\n"
   ]
  },
  {
   "cell_type": "markdown",
   "id": "933ea8a7-197d-4690-992c-2b903a3dd4cf",
   "metadata": {},
   "source": [
    "### Below are a few examples of evaluating arithmetic expressions in Python\n",
    "List popular languages for Data Science"
   ]
  },
  {
   "cell_type": "code",
   "execution_count": 9,
   "id": "afc8386f-e387-4162-896e-3826ba2f0c90",
   "metadata": {
    "tags": []
   },
   "outputs": [
    {
     "data": {
      "text/plain": [
       "17"
      ]
     },
     "execution_count": 9,
     "metadata": {},
     "output_type": "execute_result"
    }
   ],
   "source": [
    "#  This a simple arithmetic expression to mutiply then add integers\n",
    "(3*4)+5"
   ]
  },
  {
   "cell_type": "code",
   "execution_count": 11,
   "id": "aa122250-1a15-44a8-8122-89035729c64d",
   "metadata": {
    "tags": []
   },
   "outputs": [
    {
     "data": {
      "text/plain": [
       "3.3333333333333335"
      ]
     },
     "execution_count": 11,
     "metadata": {},
     "output_type": "execute_result"
    }
   ],
   "source": [
    "# This will convert 200 minutes to hours by diving by 60\n",
    "200/60"
   ]
  },
  {
   "cell_type": "markdown",
   "id": "7fbb9f4e-59bb-4a85-8e95-38cfdaa4f965",
   "metadata": {
    "tags": []
   },
   "source": [
    "## Author\n",
    "Nermine Abdelshafi"
   ]
  },
  {
   "cell_type": "code",
   "execution_count": null,
   "id": "f1b98f54-9863-4dfc-8bbc-cd5f91224bde",
   "metadata": {},
   "outputs": [],
   "source": []
  }
 ],
 "metadata": {
  "kernelspec": {
   "display_name": "Python",
   "language": "python",
   "name": "conda-env-python-py"
  },
  "language_info": {
   "codemirror_mode": {
    "name": "ipython",
    "version": 3
   },
   "file_extension": ".py",
   "mimetype": "text/x-python",
   "name": "python",
   "nbconvert_exporter": "python",
   "pygments_lexer": "ipython3",
   "version": "3.7.12"
  }
 },
 "nbformat": 4,
 "nbformat_minor": 5
}
